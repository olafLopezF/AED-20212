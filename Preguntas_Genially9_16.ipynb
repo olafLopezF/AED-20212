{
  "nbformat": 4,
  "nbformat_minor": 0,
  "metadata": {
    "colab": {
      "name": "Preguntas_Genially9-16.ipynb",
      "provenance": [],
      "collapsed_sections": [],
      "authorship_tag": "ABX9TyNmhNS/wuTGMpmhX15E+mVN",
      "include_colab_link": true
    },
    "kernelspec": {
      "name": "python3",
      "display_name": "Python 3"
    },
    "language_info": {
      "name": "python"
    }
  },
  "cells": [
    {
      "cell_type": "markdown",
      "metadata": {
        "id": "view-in-github",
        "colab_type": "text"
      },
      "source": [
        "<a href=\"https://colab.research.google.com/github/olafLopezF/AED-20212/blob/main/Preguntas_Genially9_16.ipynb\" target=\"_parent\"><img src=\"https://colab.research.google.com/assets/colab-badge.svg\" alt=\"Open In Colab\"/></a>"
      ]
    },
    {
      "cell_type": "markdown",
      "metadata": {
        "id": "a9xTtMxPUx4V"
      },
      "source": [
        "##Preguntas del 9 al 16\n",
        "\n",
        "\n"
      ]
    },
    {
      "cell_type": "markdown",
      "metadata": {
        "id": "0UMGD36MU_Zs"
      },
      "source": [
        "#9.¿Diferencia entre encapsulamiento y abstracción?\n",
        "El encapsulamineto se encarga de \"Ocultar\" los datos, ayuda para no proteger el acceso a los datos de manera directa, sin embargo, la abstracción se encarga de ignorar cualquier detalle dentro de la clase y solo crea las instancias.\n",
        "\n",
        "\n"
      ]
    },
    {
      "cell_type": "markdown",
      "metadata": {
        "id": "AqEe9rMkV6Md"
      },
      "source": [
        "#10.Cuando la misma función existe tanto en la clase base como en la derivada,¿Qué funcion es ejecutada?\n",
        "Al existir en la clase derivada y en la clase base, la única manera de que ejecute la función que esta en la clase derivada es mediante \"virtual\"."
      ]
    },
    {
      "cell_type": "markdown",
      "metadata": {
        "id": "Jn6TxAxvWajb"
      },
      "source": [
        "#11.¿Cómo podemos utilizar el constructor de la clase base creando un objeto de la clase derivada?\n",
        "Se puede utilizar llamando al constructor directamente desde la clase derivada haciendo uso de herencia e inicializándolo."
      ]
    },
    {
      "cell_type": "markdown",
      "metadata": {
        "id": "qqm_4LsFW4YU"
      },
      "source": [
        "#12.¿Qué es la herencia y como lo utilizo en su proyecto?\n",
        "La herencia es un método usado para poder crear más clases que contengan atributos de alguna clase existente, en nuestro proyecto lo hemos usado para heredar los atributos de diferentes clases y así poder trabajar con ellos modificándolos o usándolos como referencia."
      ]
    },
    {
      "cell_type": "markdown",
      "metadata": {
        "id": "aWuw1dxgXunz"
      },
      "source": [
        "#13.¿Qué es namespace std?\n",
        "Es un contenedor en el cual existe los identificadores estándar."
      ]
    },
    {
      "cell_type": "markdown",
      "metadata": {
        "id": "Wf9bNbPgX6sj"
      },
      "source": [
        "#14.¿Por qué creamos una clase abstracta?\n",
        "Lo creamos para poder usar una clase base a otras clases derivadas."
      ]
    },
    {
      "cell_type": "markdown",
      "metadata": {
        "id": "LehmLg8WYPqs"
      },
      "source": [
        "#15.¿Qué es la memoria tipo pila y cómo funciona?\n",
        "La memoria tipo pila es una estructura de datos el cual funciona de acuerdo al orden de entrada, también conocido como tipo LIFO en el cual se puede obtener los datos."
      ]
    },
    {
      "cell_type": "markdown",
      "metadata": {
        "id": "D9S-t2eeYqDs"
      },
      "source": [
        "#16.¿Cómo ha utilizado el poliformismo en su trabajo final de curso?\n",
        "Hemos usado el poliformismo al momento de heredar las clases de los personajes a otra clase de personajes, pero más específico para poder usar las mismas funciones que ya vienen dentro de la clase base."
      ]
    }
  ]
}